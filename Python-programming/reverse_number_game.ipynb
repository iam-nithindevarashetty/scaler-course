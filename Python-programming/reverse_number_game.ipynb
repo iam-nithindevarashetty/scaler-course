{
 "cells": [
  {
   "cell_type": "markdown",
   "metadata": {},
   "source": [
    "Question: write a program to print the reverse of a number.\n",
    "\n",
    "Problem Constraints:\n",
    "1 <= T <= 100\n",
    "1 <= N <= 100000000\n",
    "\n",
    "Input Format:\n",
    "First line is T which means number of test cases.\n",
    "Each next N lines contain an integer N.\n",
    "\n",
    "Output Format:\n",
    "T lines each containing reverse of the input integer."
   ]
  },
  {
   "cell_type": "markdown",
   "metadata": {},
   "source": [
    "Problem Description\n",
    "\n",
    "Write a program that accepts T numbers(N) from the user and find reverse of the given number(N).\n",
    "\n",
    "Problem Constraints\n",
    "1 <= T <= 100\n",
    "1 <= N <= 100000000\n",
    "\n",
    "Input Format\n",
    "First line is T which means number of test cases.\n",
    "Each next N lines contain an integer N.\n",
    "\n",
    "Output Format\n",
    "T lines each containing reverse of the input integer.\n",
    "\n",
    "Example Input\n",
    "Input 1:\n",
    "\n",
    "2\n",
    "101\n",
    "105\n",
    "\n",
    "Input 2:\n",
    "\n",
    "1\n",
    "100\n",
    "\n",
    "Example Output\n",
    "Output 1:\n",
    "101\n",
    "501\n",
    "Output 2:\n",
    "1\n",
    "\n",
    "Example Explanation\n",
    "\n",
    "Explanation 1:\n",
    "Reverse(101)=101\n",
    "Reverse(105)=501\n",
    "\n",
    "Explanation 2:\n",
    "Reverse(100)=001=1"
   ]
  },
  {
   "cell_type": "code",
   "execution_count": 6,
   "metadata": {},
   "outputs": [
    {
     "name": "stdout",
     "output_type": "stream",
     "text": [
      "101\n",
      "302\n"
     ]
    }
   ],
   "source": [
    "def main():\n",
    "    for T in range(int(input())):\n",
    "        num = int(input())\n",
    "\n",
    "        result = 0\n",
    "        while num != 0:\n",
    "            digit = num % 10\n",
    "            num = num // 10\n",
    "\n",
    "            result *= 10\n",
    "            result += digit\n",
    "        print(result)\n",
    "\n",
    "    return 0\n",
    "\n",
    "if __name__ == '__main__':\n",
    "    main()"
   ]
  },
  {
   "cell_type": "code",
   "execution_count": 5,
   "metadata": {},
   "outputs": [
    {
     "data": {
      "text/plain": [
       "4"
      ]
     },
     "execution_count": 5,
     "metadata": {},
     "output_type": "execute_result"
    }
   ],
   "source": [
    "1234%10"
   ]
  },
  {
   "cell_type": "markdown",
   "metadata": {},
   "source": [
    "**Function Definition:**\n",
    "\n",
    "- `def main():`: This line defines a function named `main()`, which serves as the entry point of the program.\n",
    "\n",
    "**Input Processing:**\n",
    "\n",
    "- `for T in range(int(input())):`: This loop iterates `T` times, where `T` is the number of test cases provided by the user. It reads the value of `T` from the input.\n",
    "\n",
    "- `num = int(input())`: Inside the loop, this line reads an integer `num` from the input, representing the number to be reversed.\n",
    "\n",
    "**Reversing the Number:**\n",
    "\n",
    "- `result = 0`: Initializes a variable `result` to store the reversed number.\n",
    "- `while num != 0:`: This loop continues as long as `num` is not zero.\n",
    "- `digit = num % 10`: Extracts the last digit of `num` using the modulo operator (`%`).\n",
    "- `num = num // 10`: Removes the last digit from `num` using integer division (`//`).\n",
    "- `result *= 10`: Shifts the existing digits in `result` one position to the left.\n",
    "- `result += digit`: Appends the extracted digit to the end of `result`.\n",
    "\n",
    "**Output:**\n",
    "\n",
    "- `print(result)`: Prints the reversed number stored in `result`.\n",
    "\n",
    "**Return Statement:**\n",
    "\n",
    "- `return 0`: This line is optional in Python and typically used for compatibility with other programming languages. It indicates that the function has executed successfully.\n",
    "\n",
    "**Main Execution:**\n",
    "\n",
    "- `if __name__ == '__main__':`: This conditional statement ensures that the `main()` function is executed only when the script is run directly, and not when it's imported as a module.\n",
    "\n",
    "**Overall Explanation:**\n",
    "\n",
    "The code takes `T` number of test cases as input and reverses each number using a while loop. It extracts digits from the number one by one, appends them to the `result` variable in reverse order, and finally prints the reversed number.\n"
   ]
  },
  {
   "cell_type": "markdown",
   "metadata": {},
   "source": [
    "iam confused as we initiated with result = 0 and when we do result *= 10 it will still be 0 right ?"
   ]
  },
  {
   "cell_type": "markdown",
   "metadata": {},
   "source": [
    "You're absolutely right about that! \n",
    "\n",
    "In the code:\n",
    "\n",
    "```python\n",
    "result = 0\n",
    "while num != 0:\n",
    "  # ...\n",
    "  result *= 10\n",
    "  result += digit\n",
    "```\n",
    "\n",
    "The first time `result *= 10` is executed, `result` is still 0, so the operation essentially multiplies 0 by 10, resulting in 0. However, the subsequent iterations of the loop will lead to meaningful results. \n",
    "\n",
    "Here's a breakdown of how it works:\n",
    "\n",
    "1. **Initialization:** `result` starts as 0.\n",
    "2. **First Iteration:**\n",
    "   - `digit` gets the last digit of `num`.\n",
    "   - `result *= 10`: Multiplies 0 by 10, resulting in 0.\n",
    "   - `result += digit`: Adds `digit` to 0, storing the first digit in `result`.\n",
    "3. **Second Iteration:**\n",
    "   - `digit` gets the second-to-last digit of `num`.\n",
    "   - `result *= 10`: Multiplies the existing value in `result` (the first digit) by 10, shifting it one position to the left.\n",
    "   - `result += digit`: Adds the second-to-last digit to the shifted value, creating a two-digit number.\n",
    "4. **Subsequent Iterations:**\n",
    "   - The process continues, extracting digits one by one and appending them to `result` in reverse order.\n",
    "\n",
    "So, while the first `result *= 10` operation might seem redundant, it sets the stage for the subsequent calculations to build the reversed number correctly.\n"
   ]
  }
 ],
 "metadata": {
  "kernelspec": {
   "display_name": "Python 3",
   "language": "python",
   "name": "python3"
  },
  "language_info": {
   "codemirror_mode": {
    "name": "ipython",
    "version": 3
   },
   "file_extension": ".py",
   "mimetype": "text/x-python",
   "name": "python",
   "nbconvert_exporter": "python",
   "pygments_lexer": "ipython3",
   "version": "3.12.5"
  }
 },
 "nbformat": 4,
 "nbformat_minor": 2
}
