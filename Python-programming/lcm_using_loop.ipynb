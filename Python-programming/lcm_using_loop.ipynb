{
 "cells": [
  {
   "cell_type": "markdown",
   "metadata": {},
   "source": [
    "Problem Description\n",
    "\n",
    "Write a program to input an integer T and then for each test case input two integers A and B in two different lines and then print T lines containing Least Common Multiple (LCM) of two given 2 numbers A and B.\n",
    "\n",
    "Note: LCM of two integers is the smallest positive integer divisible by both.\n",
    "\n",
    "\n",
    "Problem Constraints\n",
    "\n",
    "1 <= T <= 1000\n",
    "\n",
    "1 <= A,B <= 1000\n",
    "\n",
    "\n",
    "\n",
    "\n",
    "Input Format\n",
    "\n",
    "The first line contains T which means number of test cases.\n",
    "\n",
    "Next 2T lines contains input A and B for each testcase.\n",
    "First line of each testcase contain an integer A and second line of the testcase contains input B.\n",
    "\n",
    "\n",
    "\n",
    "\n",
    "Output Format\n",
    "\n",
    "\n",
    "\n",
    "T lines each containing an integer representing LCM of A & B.\n",
    "\n",
    "\n",
    "\n",
    "\n",
    "Example Input\n",
    "\n",
    "Input 1:\n",
    "3\n",
    "2\n",
    "3\n",
    "9\n",
    "6\n",
    "2\n",
    "6\n",
    "\n",
    "\n",
    "Example Output\n",
    "\n",
    "Output 1:\n",
    "6\n",
    "18\n",
    "6\n",
    "\n",
    "\n",
    "Example Explanation\n",
    "\n",
    "Explanation:\n",
    "\n",
    " In first testcase 6 is the smallest positive integer which is divisible by both 2 (2 * 3 = 6) and 3 (3 * 2 = 6).\n",
    " In second testcase 18 is the smallest positive integer which is divisible by both 9 (9 * 2 = 18) and 6 (6 * 3 = 18).\n",
    " In third testcase  6 is the smallest positive integer which is divisible by both 2 (2 * 3 = 6) and 6 (6 * 1 = 6)."
   ]
  },
  {
   "cell_type": "code",
   "execution_count": 1,
   "metadata": {},
   "outputs": [
    {
     "name": "stdout",
     "output_type": "stream",
     "text": [
      "130\n",
      "247\n"
     ]
    }
   ],
   "source": [
    "def main():\n",
    "    # YOUR CODE GOES HERE\n",
    "    # Please take input and print output to standard input/output (stdin/stdout)\n",
    "    # E.g. 'input()/raw_input()' for input & 'print' for output\n",
    "    T = int(input())\n",
    "    for i in range(T):\n",
    "        A = int(input())\n",
    "        B = int(input())\n",
    "        largest_number = max(A,B)\n",
    "        step = largest_number\n",
    "        while True:\n",
    "            if largest_number % A == 0 and largest_number % B == 0:\n",
    "                print(largest_number)\n",
    "                break\n",
    "            largest_number = largest_number + step\n",
    "\n",
    "    return 0\n",
    "\n",
    "if __name__ == '__main__':\n",
    "    main()"
   ]
  },
  {
   "cell_type": "code",
   "execution_count": null,
   "metadata": {},
   "outputs": [],
   "source": []
  }
 ],
 "metadata": {
  "kernelspec": {
   "display_name": "Python 3",
   "language": "python",
   "name": "python3"
  },
  "language_info": {
   "codemirror_mode": {
    "name": "ipython",
    "version": 3
   },
   "file_extension": ".py",
   "mimetype": "text/x-python",
   "name": "python",
   "nbconvert_exporter": "python",
   "pygments_lexer": "ipython3",
   "version": "3.12.5"
  }
 },
 "nbformat": 4,
 "nbformat_minor": 2
}
