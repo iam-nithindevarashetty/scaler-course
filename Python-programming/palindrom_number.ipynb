{
 "cells": [
  {
   "cell_type": "markdown",
   "metadata": {},
   "source": [
    "Problem Description\n",
    "\n",
    "You are given an integer A as input and you need to determine whether it is a palindrome or not.\n",
    "A palindrome integer is one whose digits, when reversed, result in the same number.\n",
    "For example, 121 is a palindrome because its reverse is also 121, but 123 is not a palindrome because its reverse is 321.\n",
    "\n",
    "Note: The given integer will not have any leading zeros.\n",
    "\n",
    "Problem Constraints\n",
    "1 <= A <= 106\n",
    "\n",
    "Input Format\n",
    "First and the only line contains a single integer A.\n",
    "\n",
    "Output Format\n",
    "Print Yes if it is palindromic, else print No.\n",
    "\n",
    "Example Input\n",
    "Input 1:\n",
    " 120 \n",
    "Input 2:\n",
    " 1001 \n",
    "Input 3:\n",
    " 131 \n",
    "\n",
    "Example Output\n",
    "\n",
    "Output 1:\n",
    "\n",
    " No \n",
    "Output 2:\n",
    "\n",
    " Yes \n",
    "Output 3:\n",
    "\n",
    " Yes \n",
    "\n",
    "\n",
    "Example Explanation\n",
    "\n",
    "Explanation 1:\n",
    "\n",
    " For A = 120, reverse(A) = reverse(120) = 021 = 21 (removing leading zeroes). 120 is not equal to 21 \n",
    "Explanation 2:\n",
    "\n",
    " For A = 1001, reverse(A) = reverse(1001) = 1001, which is same as A.\n",
    "Explanation 3:\n",
    "\n",
    " For A = 131, reverse(A) = reverse(131) = 131, which is same as A."
   ]
  },
  {
   "cell_type": "code",
   "execution_count": 1,
   "metadata": {},
   "outputs": [
    {
     "name": "stdout",
     "output_type": "stream",
     "text": [
      "No\n"
     ]
    }
   ],
   "source": [
    "def main():\n",
    "    # YOUR CODE GOES HERE\n",
    "    # Please take input and print output to standard input/output (stdin/stdout)\n",
    "    # E.g. 'input()/raw_input()' for input & 'print' for output\n",
    "    A = int(input())\n",
    "    result = 0\n",
    "    while A != 0:\n",
    "        digit = A % 10\n",
    "        A = A // 10\n",
    "        result *= 10\n",
    "        result += digit\n",
    "    reversed_number =  int(result)\n",
    "    if reversed_number == A:\n",
    "        print(\"Yes\")\n",
    "    else:\n",
    "        print(\"No\")\n",
    "\n",
    "\n",
    "    return 0\n",
    "\n",
    "if __name__ == '__main__':\n",
    "    main()"
   ]
  },
  {
   "cell_type": "markdown",
   "metadata": {},
   "source": []
  },
  {
   "cell_type": "code",
   "execution_count": null,
   "metadata": {},
   "outputs": [],
   "source": []
  }
 ],
 "metadata": {
  "kernelspec": {
   "display_name": "Python 3",
   "language": "python",
   "name": "python3"
  },
  "language_info": {
   "codemirror_mode": {
    "name": "ipython",
    "version": 3
   },
   "file_extension": ".py",
   "mimetype": "text/x-python",
   "name": "python",
   "nbconvert_exporter": "python",
   "pygments_lexer": "ipython3",
   "version": "3.12.5"
  }
 },
 "nbformat": 4,
 "nbformat_minor": 2
}
